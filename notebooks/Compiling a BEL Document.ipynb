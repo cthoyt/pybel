{
 "cells": [
  {
   "cell_type": "markdown",
   "metadata": {},
   "source": [
    "# Loading BEL Documents\n",
    "\n",
    "We'll always start by importing `pybel`."
   ]
  },
  {
   "cell_type": "code",
   "execution_count": 1,
   "metadata": {},
   "outputs": [],
   "source": [
    "import os\n",
    "from urllib.request import urlretrieve\n",
    "\n",
    "import pybel\n",
    "import logging\n",
    "\n",
    "\n",
    "logging.getLogger('pybel').setLevel(logging.DEBUG)\n",
    "logging.basicConfig(level=logging.DEBUG)\n",
    "logging.getLogger('urllib3').setLevel(logging.WARNING)"
   ]
  },
  {
   "cell_type": "code",
   "execution_count": 2,
   "metadata": {},
   "outputs": [
    {
     "name": "stdout",
     "output_type": "stream",
     "text": [
      "0.15.0-dev\n"
     ]
    }
   ],
   "source": [
    "print(pybel.get_version())"
   ]
  },
  {
   "cell_type": "code",
   "execution_count": 3,
   "metadata": {},
   "outputs": [
    {
     "name": "stderr",
     "output_type": "stream",
     "text": [
      "DEBUG:pybel.manager.base_manager:auto flush: True, auto commit: False, expire on commmit: True\n"
     ]
    }
   ],
   "source": [
    "DESKTOP_PATH = os.path.join(os.path.expanduser('~'), 'Desktop')\n",
    "manager = pybel.Manager(f'sqlite:///{DESKTOP_PATH}/pybel_example_database.db')"
   ]
  },
  {
   "cell_type": "markdown",
   "metadata": {},
   "source": [
    "First, we'll download and parse a BEL document from the Human Brain Pharmacome project describing the 2018 paper from Boland *et al.*, \"Promoting the clearance of neurotoxic proteins in neurodegenerative disorders of ageing\"."
   ]
  },
  {
   "cell_type": "code",
   "execution_count": 4,
   "metadata": {},
   "outputs": [],
   "source": [
    "url = 'https://raw.githubusercontent.com/pharmacome/conib/master/hbp_knowledge/tau/boland2018.bel'"
   ]
  },
  {
   "cell_type": "markdown",
   "metadata": {},
   "source": [
    "A BEL document can be downloaded and parsed from a URL using `pybel.from_bel_script_url`. Keep in mind, the first time we load a given BEL document, various BEL resources that are referenced in the document must be cached. Be patient - this can take up to ten minutes."
   ]
  },
  {
   "cell_type": "code",
   "execution_count": 5,
   "metadata": {},
   "outputs": [
    {
     "name": "stderr",
     "output_type": "stream",
     "text": [
      "INFO:pybel.io.lines:Loading from url: https://raw.githubusercontent.com/pharmacome/conib/master/hbp_knowledge/tau/boland2018.bel\n",
      "INFO:pybel.io.line_utils:Finished parsing document section in 0.00 seconds\n",
      "INFO:pybel.io.line_utils:Finished parsing definitions section in 0.00 seconds\n",
      "downloading namespaces:   0%|          | 0/13 [00:00<?, ?it/s]DEBUG:bel_resources.read_utils:getting resource: https://raw.githubusercontent.com/pharmacome/terminology/c328ad964c08967a0417a887510b97b965a62fa5/external/mesh-names.belns\n",
      "WARNING:pybel.manager.cache_manager:No mappings found for https://raw.githubusercontent.com/pharmacome/terminology/c328ad964c08967a0417a887510b97b965a62fa5/external/mesh-names.belns\n",
      "downloading namespaces:   8%|▊         | 1/13 [00:00<00:09,  1.22it/s]DEBUG:bel_resources.read_utils:getting resource: https://raw.githubusercontent.com/pharmacome/terminology/b46b65c3da259b6e86026514dfececab7c22a11b/external/chebi-names.belns\n",
      "WARNING:pybel.manager.cache_manager:No mappings found for https://raw.githubusercontent.com/pharmacome/terminology/b46b65c3da259b6e86026514dfececab7c22a11b/external/chebi-names.belns\n",
      "downloading namespaces:  15%|█▌        | 2/13 [00:01<00:07,  1.42it/s]DEBUG:bel_resources.read_utils:getting resource: https://raw.githubusercontent.com/pharmacome/terminology/b46b65c3da259b6e86026514dfececab7c22a11b/external/drugbank-names.belns\n",
      "WARNING:pybel.manager.cache_manager:No mappings found for https://raw.githubusercontent.com/pharmacome/terminology/b46b65c3da259b6e86026514dfececab7c22a11b/external/drugbank-names.belns\n",
      "downloading namespaces:  23%|██▎       | 3/13 [00:01<00:05,  1.85it/s]DEBUG:bel_resources.read_utils:getting resource: https://raw.githubusercontent.com/pharmacome/terminology/b46b65c3da259b6e86026514dfececab7c22a11b/external/ec-code.belns\n",
      "DEBUG:bel_resources.read_utils:getting resource: https://raw.githubusercontent.com/pharmacome/terminology/b46b65c3da259b6e86026514dfececab7c22a11b/external/entrez.belns\n",
      "downloading namespaces:  38%|███▊      | 5/13 [00:01<00:03,  2.23it/s]DEBUG:bel_resources.read_utils:getting resource: https://raw.githubusercontent.com/pharmacome/terminology/b46b65c3da259b6e86026514dfececab7c22a11b/external/go-names.belns\n",
      "WARNING:pybel.manager.cache_manager:No mappings found for https://raw.githubusercontent.com/pharmacome/terminology/b46b65c3da259b6e86026514dfececab7c22a11b/external/go-names.belns\n",
      "downloading namespaces:  46%|████▌     | 6/13 [00:02<00:02,  2.53it/s]DEBUG:bel_resources.read_utils:getting resource: https://raw.githubusercontent.com/pharmacome/terminology/b46b65c3da259b6e86026514dfececab7c22a11b/external/hgnc-names.belns\n",
      "WARNING:pybel.manager.cache_manager:No mappings found for https://raw.githubusercontent.com/pharmacome/terminology/b46b65c3da259b6e86026514dfececab7c22a11b/external/hgnc-names.belns\n",
      "downloading namespaces:  54%|█████▍    | 7/13 [00:02<00:02,  2.96it/s]DEBUG:bel_resources.read_utils:getting resource: https://raw.githubusercontent.com/pharmacome/conso/501ceccdc9a27d97edbdc48a89ebe8e1dd3626e9/export/conso-names.belns\n",
      "DEBUG:pybel.manager.cache_manager:got 358 mappings\n",
      "downloading namespaces:  62%|██████▏   | 8/13 [00:02<00:01,  3.68it/s]DEBUG:bel_resources.read_utils:getting resource: https://raw.githubusercontent.com/sorgerlab/famplex/d9ec0526c20795146a9a6aef17496efe1a36cac6/export/famplex.belns\n",
      "DEBUG:bel_resources.read_utils:getting resource: https://arty.scai.fraunhofer.de/artifactory/bel/namespace/hp/hp-20171108.belns\n",
      "downloading namespaces:  77%|███████▋  | 10/13 [00:02<00:00,  3.96it/s]DEBUG:bel_resources.read_utils:getting resource: https://arty.scai.fraunhofer.de/artifactory/bel/namespace/mgi-mouse-genes/mgi-mouse-genes-20170725.belns\n",
      "downloading namespaces:  85%|████████▍ | 11/13 [00:03<00:00,  3.50it/s]DEBUG:bel_resources.read_utils:getting resource: https://arty.scai.fraunhofer.de/artifactory/bel/namespace/rgd-rat-genes/rgd-rat-genes-20170725.belns\n",
      "downloading namespaces:  92%|█████████▏| 12/13 [00:03<00:00,  3.42it/s]DEBUG:bel_resources.read_utils:getting resource: https://arty.scai.fraunhofer.de/artifactory/bel/namespace/interpro/interpro-20170731.belns\n",
      "downloading namespaces: 100%|██████████| 13/13 [00:03<00:00,  3.30it/s]\n",
      "making namespaces entry table: 100%|██████████| 13/13 [00:00<00:00, 44.51it/s]\n",
      "INFO:pybel.manager.cache_manager:preparing sql objects for namespaces\n",
      "INFO:pybel.manager.cache_manager:committing namespaces\n",
      "INFO:pybel.manager.cache_manager:done committing namespaces after 0.00 seconds\n",
      "downloading annotations:   0%|          | 0/10 [00:00<?, ?it/s]DEBUG:bel_resources.read_utils:getting resource: https://arty.scai.fraunhofer.de/artifactory/bel/annotation/anatomy/anatomy-20170511.belanno\n",
      "downloading annotations:  10%|█         | 1/10 [00:00<00:02,  3.73it/s]DEBUG:bel_resources.read_utils:getting resource: https://arty.scai.fraunhofer.de/artifactory/bel/annotation/cell-line/cell-line-20170511.belanno\n",
      "downloading annotations:  20%|██        | 2/10 [00:00<00:02,  3.34it/s]DEBUG:bel_resources.read_utils:getting resource: https://arty.scai.fraunhofer.de/artifactory/bel/annotation/cell-structure/cell-structure-20170511.belanno\n",
      "DEBUG:bel_resources.read_utils:getting resource: https://arty.scai.fraunhofer.de/artifactory/bel/annotation/cell/cell-20170511.belanno\n",
      "downloading annotations:  40%|████      | 4/10 [00:00<00:01,  4.08it/s]DEBUG:bel_resources.read_utils:getting resource: https://arty.scai.fraunhofer.de/artifactory/bel/annotation/confidence/confidence-1.0.0.belanno\n",
      "DEBUG:bel_resources.read_utils:getting resource: https://arty.scai.fraunhofer.de/artifactory/bel/annotation/disease/disease-20170511.belanno\n",
      "downloading annotations:  60%|██████    | 6/10 [00:01<00:00,  4.63it/s]DEBUG:bel_resources.read_utils:getting resource: https://arty.scai.fraunhofer.de/artifactory/bel/annotation/mesh-anatomy/mesh-anatomy-20170511.belanno\n",
      "downloading annotations:  70%|███████   | 7/10 [00:01<00:00,  5.34it/s]DEBUG:bel_resources.read_utils:getting resource: https://arty.scai.fraunhofer.de/artifactory/bel/annotation/mesh-diseases/mesh-diseases-20170511.belanno\n",
      "downloading annotations:  80%|████████  | 8/10 [00:01<00:00,  5.65it/s]DEBUG:bel_resources.read_utils:getting resource: https://arty.scai.fraunhofer.de/artifactory/bel/annotation/neurommsig/neurommsig-1.0.3.belanno\n",
      "DEBUG:bel_resources.read_utils:getting resource: https://arty.scai.fraunhofer.de/artifactory/bel/annotation/text-location/text-location-1.0.1.belanno\n",
      "downloading annotations: 100%|██████████| 10/10 [00:01<00:00,  6.14it/s]\n",
      "making annotations entry table: 100%|██████████| 10/10 [00:00<00:00, 406.85it/s]\n",
      "INFO:pybel.manager.cache_manager:preparing sql objects for annotations\n",
      "INFO:pybel.manager.cache_manager:committing annotations\n",
      "INFO:pybel.manager.cache_manager:done committing annotations after 0.00 seconds\n",
      "INFO:pybel.io.line_utils:Finished ensuring namespaces in cache\n",
      "INFO:pybel.parser.baseparser:streamlined BELParser in 2.24 seconds\n",
      "INFO:pybel.io.line_utils:Parsed statements section in 0.73 seconds with 0 warnings\n",
      "INFO:pybel.io.line_utils:Network has 200 nodes and 400 edges\n"
     ]
    }
   ],
   "source": [
    "boland_2018_graph = pybel.from_bel_script_url(url, manager=manager)"
   ]
  },
  {
   "cell_type": "code",
   "execution_count": 6,
   "metadata": {},
   "outputs": [
    {
     "name": "stderr",
     "output_type": "stream",
     "text": [
      "DEBUG:pybel.manager.cache_manager:inserting Promoting the clearance of neurotoxic proteins in neurodegenerative disorders of ageing v1.0.0\n",
      "downloading namespaces: 100%|██████████| 13/13 [00:00<00:00, 847.36it/s]\n",
      "INFO:pybel.manager.cache_manager:creating regex namespace: DBSNP:rs[0-9]+\n",
      "INFO:pybel.manager.cache_manager:creating regex namespace: TAXONOMY:^\\d+$\n",
      "INFO:pybel.manager.cache_manager:creating regex namespace: PUBCHEM:^\\d+$\n",
      "downloading annotations: 100%|██████████| 10/10 [00:00<00:00, 946.99it/s]\n",
      "DEBUG:pybel.manager.cache_manager:inserting Promoting the clearance of neurotoxic proteins in neurodegenerative disorders of ageing v1.0.0 into edge store\n",
      "DEBUG:pybel.manager.cache_manager:building node models\n",
      "nodes: 100%|██████████| 200/200 [00:01<00:00, 112.49it/s]\n",
      "DEBUG:pybel.manager.cache_manager:built 200 node models in 1.78 seconds\n",
      "DEBUG:pybel.manager.cache_manager:stored 200 node models in 0.01 seconds\n",
      "DEBUG:pybel.manager.cache_manager:building edge models\n",
      "edges: 100%|██████████| 400/400 [00:01<00:00, 227.72it/s]\n",
      "DEBUG:pybel.manager.cache_manager:built 400 edge models in 1.76 seconds\n",
      "DEBUG:pybel.manager.cache_manager:stored 400 edge models in 0.03 seconds\n",
      "INFO:pybel.manager.cache_manager:inserted Promoting the clearance of neurotoxic proteins in neurodegenerative disorders of ageing v1.0.0 in 4.09 seconds\n"
     ]
    },
    {
     "data": {
      "text/plain": [
       "Promoting the clearance of neurotoxic proteins in neurodegenerative disorders of ageing v1.0.0"
      ]
     },
     "execution_count": 6,
     "metadata": {},
     "output_type": "execute_result"
    }
   ],
   "source": [
    "pybel.to_database(boland_2018_graph, manager=manager)"
   ]
  },
  {
   "cell_type": "markdown",
   "metadata": {},
   "source": [
    "The graph is loaded into an instance of the `pybel.BELGraph` class. We can use the `pybel.BELGraph.summarize()` to print a brief summary of the graph."
   ]
  },
  {
   "cell_type": "code",
   "execution_count": 7,
   "metadata": {},
   "outputs": [
    {
     "name": "stdout",
     "output_type": "stream",
     "text": [
      "---------------------  ---------------------------------------------------------------------------------------\n",
      "Name                   Promoting the clearance of neurotoxic proteins in neurodegenerative disorders of ageing\n",
      "Version                1.0.0\n",
      "Authors                Esther Wollert, Sandra Spalek, and Charles Tapley Hoyt\n",
      "Number of Nodes        200\n",
      "Number of Namespaces   9\n",
      "Number of Edges        400\n",
      "Number of Annotations  3\n",
      "Number of Citations    1\n",
      "Number of Authors      0\n",
      "Network Density        1.01E-02\n",
      "Number of Components   3\n",
      "Number of Warnings     0\n",
      "---------------------  ---------------------------------------------------------------------------------------\n",
      "\n",
      "Type (7)             Count  Example\n",
      "-----------------  -------  -----------------------------------------------------------------\n",
      "Protein                100  p(HGNC:CAPN2)\n",
      "Abundance               59  a(CHEBI:cilostazol)\n",
      "BiologicalProcess       21  bp(GO:\"response to endoplasmic reticulum stress\")\n",
      "Pathology                7  path(MESH:\"Frontotemporal Dementia\")\n",
      "Gene                     5  g(HGNC:APP)\n",
      "Complex                  5  complex(GO:\"lysosomal proton-transporting V-type ATPase complex\")\n",
      "Composite                3  composite(a(CHEBI:\"NAD(+)\"), p(HGNC:SIRT1))\n",
      "\n",
      "Namespace (9)      Count  Example\n",
      "---------------  -------  --------------------------------------------------------------------\n",
      "HGNC                  97  p(HGNC:C9orf72)\n",
      "CHEBI                 41  a(CHEBI:ambroxol)\n",
      "GO                    25  bp(GO:\"dendrite development\")\n",
      "go                    24\n",
      "MESH                  16  path(MESH:\"Motor Activity\")\n",
      "FPLX                  13  p(FPLX:AMPK, pmod(go:0006468 ! \"protein phosphorylation\", Thr, 172))\n",
      "CONSO                 12  a(CONSO:\"alpha-synuclein oligomers\")\n",
      "PUBCHEM                8  a(PUBCHEM:16240819)\n",
      "HP                     1  bp(HP:Neurodegeneration)\n",
      "\n",
      "Edge Type (52)                                   Count  Example\n",
      "---------------------------------------------  -------  --------------------------------------------------------------------------------------------------------------------------------\n",
      "Abundance increases Protein                         50  a(PUBCHEM:9568077) increases act(p(HGNC:HSF1), ma(go:0001071 ! \"nucleic acid binding transcription factor activity\"))\n",
      "Protein increases Protein                           35  p(HGNC:GBA, var(\"?\")) increases p(HGNC:SNCA)\n",
      "Abundance decreases Protein                         35  a(CHEBI:metformin) decreases p(HGNC:MAPT, pmod(CONSO:hyperphosphorylation))\n",
      "Abundance increases BiologicalProcess               33  a(CHEBI:\"lithium(1+)\") increases bp(GO:autophagy)\n",
      "Protein hasVariant Protein                          29  p(HGNC:PRKN) hasVariant p(HGNC:PRKN, var(\"?\"))\n",
      "Protein decreases BiologicalProcess                 28  p(HGNC:STAT3) decreases bp(GO:macroautophagy)\n",
      "Abundance decreases Abundance                       26  a(CHEBI:resveratrol) decreases a(CHEBI:\"amyloid-beta polypeptide 42\")\n",
      "Protein increases BiologicalProcess                 21  act(p(HGNC:ULK1)) increases bp(GO:\"autophagosome assembly\")\n",
      "Protein decreases Protein                           12  p(HGNC:CAST) decreases act(p(HGNC:CAPN1))\n",
      "Abundance decreases BiologicalProcess               12  a(CHEBI:chlorohydroquinone) decreases bp(GO:macroautophagy)\n",
      "BiologicalProcess increases Protein                 10  bp(GO:autophagy) increases deg(p(HGNC:HTT, var(\"?\")))\n",
      "Protein association Pathology                        9  p(HGNC:PINK1, var(\"?\")) association path(MESH:\"Parkinson Disease\")\n",
      "Protein increases Abundance                          8  act(p(HGNC:MCOLN1)) increases tloc(a(CHEBI:\"calcium(2+)\"), fromLoc(MESH:Lysosomes), toLoc(MESH:Cytoplasm))\n",
      "Protein decreases Abundance                          6  p(HGNC:IDE) decreases a(CONSO:\"amyloid-beta aggregates\")\n",
      "Protein partOf Complex                               5  p(HGNC:SOD1) partOf complex(p(HGNC:BIRC2), p(HGNC:SOD1))\n",
      "Abundance partOf Composite                           4  a(CHEBI:\"NAD(+)\") partOf composite(a(CHEBI:\"NAD(+)\"), p(HGNC:SIRT1))\n",
      "Abundance increases Abundance                        4  a(CHEBI:paclitaxel) increases a(GO:microtubule)\n",
      "Protein decreases Pathology                          3  p(HGNC:TFEB) decreases path(MESH:\"Plaque, Amyloid\")\n",
      "BiologicalProcess causesNoChange Protein             3  bp(GO:\"chaperone-mediated autophagy\") causesNoChange deg(p(HGNC:HTT))\n",
      "BiologicalProcess increases BiologicalProcess        3  bp(GO:\"proteasome-mediated ubiquitin-dependent protein catabolic process\") increases bp(GO:\"dendrite development\")\n",
      "Pathology decreases Protein                          3  path(MESH:\"Alzheimer Disease\") decreases p(HGNC:IDE)\n",
      "Protein partOf Composite                             2  p(HGNC:SIRT1) partOf composite(a(CHEBI:\"NAD(+)\"), p(HGNC:SIRT1))\n",
      "Composite increases BiologicalProcess                2  composite(a(CHEBI:cilostazol), a(MESH:\"amyloid beta-protein (25-35)\")) increases bp(GO:cognition)\n",
      "Pathology increases Protein                          2  path(MESH:\"Alzheimer Disease\") increases act(p(HGNC:ABL1))\n",
      "Gene increases Protein                               2  g(HGNC:APP, var(\"?\")) increases p(CONSO:C99)\n",
      "Gene negativeCorrelation BiologicalProcess           2  g(HGNC:PSEN1, var(\"?\")) negativeCorrelation bp(GO:mitophagy)\n",
      "Gene hasVariant Gene                                 2  g(HGNC:PSEN1) hasVariant g(HGNC:PSEN1, var(\"?\"))\n",
      "Gene decreases Abundance                             2  g(HGNC:APP, var(\"?\")) decreases act(a(GO:endosome))\n",
      "Abundance decreases Complex                          2  a(CONSO:\"alpha-synuclein aggregates\") decreases complex(GO:\"proteasome complex\")\n",
      "Complex increases Protein                            2  complex(p(HGNC:BIRC2), p(HGNC:SOD1)) increases deg(p(HGNC:SOD1))\n",
      "Protein decreases Complex                            2  p(HGNC:SNCA, var(\"?\")) decreases complex(GO:\"proteasome complex\")\n",
      "Protein increases Pathology                          2  p(HGNC:GBA, var(\"?\")) increases path(MESH:\"Parkinson Disease\")\n",
      "Protein negativeCorrelation BiologicalProcess        1  act(p(HGNC:SIRT1)) negativeCorrelation bp(GO:aging)\n",
      "BiologicalProcess causesNoChange Abundance           1  bp(GO:\"chaperone-mediated autophagy\") causesNoChange deg(a(CHEBI:\"amyloid-beta polypeptide 42\"))\n",
      "Pathology positiveCorrelation Gene                   1  path(MESH:\"Alzheimer Disease\") positiveCorrelation g(HGNC:PSEN1, var(\"?\"))\n",
      "Pathology negativeCorrelation Abundance              1  path(MESH:\"Alzheimer Disease\") negativeCorrelation a(CHEBI:\"selenium(2+)\")\n",
      "Gene increases Pathology                             1  g(CONSO:\"APOE e4\") increases path(MESH:\"Alzheimer Disease\")\n",
      "Gene increases Abundance                             1  g(CONSO:\"APOE e4\") increases a(CHEBI:\"amyloid-beta polypeptide 42\")\n",
      "Gene negativeCorrelation Complex                     1  g(HGNC:PSEN1, var(\"?\")) negativeCorrelation act(complex(GO:\"lysosomal proton-transporting V-type ATPase complex\"))\n",
      "Complex increases Abundance                          1  complex(GO:\"proteasome complex\") increases deg(a(CONSO:\"Tau oligomers\"))\n",
      "Protein association BiologicalProcess                1  p(HGNC:LRRK2, var(\"?\")) association bp(CONSO:\"APP processing\")\n",
      "Composite increases Protein                          1  composite(a(CHEBI:\"calcium(2+)\"), p(HGNC:CAMKK2)) increases p(FPLX:AMPK, pmod(go:0006468 ! \"protein phosphorylation\", Thr, 172))\n",
      "Complex decreases Protein                            1  complex(a(CHEBI:sirolimus), p(HGNC:FKBP1A)) decreases act(p(FPLX:mTORC1))\n",
      "Abundance partOf Complex                             1  a(CHEBI:sirolimus) partOf complex(a(CHEBI:sirolimus), p(HGNC:FKBP1A))\n",
      "BiologicalProcess decreases Abundance                1  bp(GO:aging) decreases a(CHEBI:\"NAD(+)\")\n",
      "Composite decreases Abundance                        1  composite(a(CHEBI:cilostazol), a(MESH:\"amyloid beta-protein (25-35)\")) decreases a(CHEBI:\"amyloid-beta polypeptide 42\")\n",
      "Composite decreases Protein                          1  composite(a(CHEBI:cilostazol), a(MESH:\"amyloid beta-protein (25-35)\")) decreases p(HGNC:MAPT, pmod(CONSO:hyperphosphorylation))\n",
      "Complex decreases BiologicalProcess                  1  complex(p(HGNC:BCL2), p(HGNC:BECN1)) decreases bp(GO:macroautophagy)\n",
      "Abundance increases Pathology                        1  a(PUBCHEM:46216556) increases path(MESH:\"Motor Activity\")\n",
      "Abundance increases Complex                          1  a(PUBCHEM:3086599) increases act(complex(GO:\"proteasome complex\"))\n",
      "Protein increases Complex                            1  p(HGNC:PSMC5, pmod(go:0006468 ! \"protein phosphorylation\", Ser, 120)) increases act(complex(GO:\"proteasome complex\"))\n",
      "Protein negativeCorrelation Pathology                1  p(HGNC:PLG) negativeCorrelation path(MESH:\"Alzheimer Disease\")\n",
      "\n"
     ]
    }
   ],
   "source": [
    "boland_2018_graph.summarize()"
   ]
  },
  {
   "cell_type": "markdown",
   "metadata": {},
   "source": [
    "Next, we'll open and parse a BEL document from the Human Brain Pharmacome project describing the 2018 paper from Cabellero *et al.*, \"Interplay of pathogenic forms of human tau with different autophagic pathways\". This example uses `urlretrieve()` to download the file locally to demonstrate how to load from a local file path."
   ]
  },
  {
   "cell_type": "code",
   "execution_count": 8,
   "metadata": {},
   "outputs": [],
   "source": [
    "url = 'https://raw.githubusercontent.com/pharmacome/conib/master/hbp_knowledge/tau/caballero2018.bel'\n",
    "path = os.path.join(DESKTOP_PATH, 'caballero2018.bel')\n",
    "\n",
    "if not os.path.exists(path):\n",
    "    urlretrieve(url, path)"
   ]
  },
  {
   "cell_type": "markdown",
   "metadata": {},
   "source": [
    "A BEL document can also be parsed from a path to a file using `pybel.from_bel_script`. Like before, we will summarize the graph after parsing it."
   ]
  },
  {
   "cell_type": "code",
   "execution_count": 9,
   "metadata": {
    "scrolled": true
   },
   "outputs": [
    {
     "name": "stderr",
     "output_type": "stream",
     "text": [
      "INFO:pybel.io.lines:Reading BEL script at /Users/cthoyt/Desktop/caballero2018.bel\n",
      "INFO:pybel.io.line_utils:Finished parsing document section in 0.00 seconds\n",
      "INFO:pybel.io.line_utils:Finished parsing definitions section in 0.00 seconds\n",
      "downloading namespaces:   0%|          | 0/13 [00:00<?, ?it/s]DEBUG:bel_resources.read_utils:getting resource: https://raw.githubusercontent.com/pharmacome/terminology/b46b65c3da259b6e86026514dfececab7c22a11b/external/mesh-names.belns\n",
      "WARNING:pybel.manager.cache_manager:No mappings found for https://raw.githubusercontent.com/pharmacome/terminology/b46b65c3da259b6e86026514dfececab7c22a11b/external/mesh-names.belns\n",
      "downloading namespaces:   8%|▊         | 1/13 [00:00<00:09,  1.20it/s]DEBUG:bel_resources.read_utils:getting resource: https://raw.githubusercontent.com/pharmacome/conso/501ceccdc9a27d97edbdc48a89ebe8e1dd3626e9/export/conso.belns\n",
      "downloading namespaces:  62%|██████▏   | 8/13 [00:01<00:02,  1.68it/s]DEBUG:bel_resources.read_utils:getting resource: https://raw.githubusercontent.com/sorgerlab/famplex/e8ae9926ff95266032cb74f77973c84939bffbeb/export/famplex.belns\n",
      "downloading namespaces: 100%|██████████| 13/13 [00:01<00:00,  9.21it/s]\n",
      "making namespaces entry table: 100%|██████████| 3/3 [00:00<00:00, 273.62it/s]\n",
      "INFO:pybel.manager.cache_manager:preparing sql objects for namespaces\n",
      "INFO:pybel.manager.cache_manager:committing namespaces\n",
      "INFO:pybel.manager.cache_manager:done committing namespaces after 0.00 seconds\n",
      "downloading annotations: 100%|██████████| 10/10 [00:00<00:00, 981.26it/s]\n",
      "INFO:pybel.io.line_utils:Finished ensuring namespaces in cache\n",
      "INFO:pybel.parser.baseparser:streamlined BELParser in 2.22 seconds\n",
      "DEBUG:pybel.parser.parse_control:Throwing away JOURNAL entry in position 2\n",
      "INFO:pybel.io.line_utils:Parsed statements section in 0.30 seconds with 0 warnings\n",
      "INFO:pybel.io.line_utils:Network has 59 nodes and 141 edges\n"
     ]
    },
    {
     "name": "stdout",
     "output_type": "stream",
     "text": [
      "---------------------  -----------------------------------------------------------------------------\n",
      "Name                   Interplay of pathogenic forms of human tau with different autophagic pathways\n",
      "Version                1.0.1\n",
      "Author                 Sandra Spalek\n",
      "Number of Nodes        59\n",
      "Number of Namespaces   7\n",
      "Number of Edges        141\n",
      "Number of Annotations  3\n",
      "Number of Citations    1\n",
      "Number of Authors      0\n",
      "Network Density        4.12E-02\n",
      "Number of Components   1\n",
      "Number of Warnings     0\n",
      "---------------------  -----------------------------------------------------------------------------\n",
      "\n",
      "Type (6)             Count  Example\n",
      "-----------------  -------  -----------------------------------------------------\n",
      "Protein                 21  p(CONSO:CONSO00057)\n",
      "Abundance               12  a(CHEBI:leupeptin)\n",
      "BiologicalProcess        7  bp(GO:\"response to oxidative stress\")\n",
      "Pathology                7  path(MESH:Tauopathies)\n",
      "Composite                7  composite(a(CHEBI:thapsigargin), p(CONSO:CONSO00053))\n",
      "Complex                  5  complex(a(GO:lysosome), p(MGI:Snca, var(\"?\")))\n",
      "\n",
      "Namespace (7)      Count  Example\n",
      "---------------  -------  ---------------------------------------\n",
      "GO                    31  bp(GO:aging)\n",
      "MESH                  23  path(MESH:\"Neurodegenerative Diseases\")\n",
      "CONSO                 17  p(CONSO:CONSO00053, var(\"p.Lys280Pro\"))\n",
      "MGI                   16  p(MGI:Lrrk2, var(\"?\"))\n",
      "CHEBI                 12  a(CHEBI:thapsigargin)\n",
      "go                     6\n",
      "HGNC                   2  p(HGNC:MAPT)\n",
      "\n",
      "Edge Type (28)                                Count  Example\n",
      "------------------------------------------  -------  -----------------------------------------------------------------------------------------------------------------------------------------------------------------\n",
      "Protein decreases Protein                        23  p(MGI:Mapt, var(\"p.Pro301Leu\")) decreases deg(p(MGI:Mapt))\n",
      "BiologicalProcess increases Protein              15  bp(GO:\"chaperone-mediated autophagy\") increases deg(p(MGI:Mapt, var(\"p.Ala152Thr\")))\n",
      "Protein hasVariant Protein                       13  p(MGI:Snca) hasVariant p(MGI:Snca, var(\"?\"))\n",
      "Protein increases Abundance                      13  p(MGI:Mapt, var(\"p.Ala152Thr\")) increases deg(a(MESH:Proteins))\n",
      "Abundance partOf Composite                        8  a(CHEBI:paraquat) partOf composite(a(CHEBI:paraquat), p(MGI:Mapt, var(\"p.Ala152Thr\")))\n",
      "Pathology increases Pathology                     7  path(MESH:Tauopathies) increases path(MESH:\"Proteostasis Deficiencies\")\n",
      "Protein increases BiologicalProcess               7  p(MGI:Mapt, var(\"p.Ala152Thr\")) increases bp(GO:macroautophagy)\n",
      "Protein increases Protein                         6  p(MGI:Mapt, var(\"p.Ala152Thr\")) increases p(MGI:Mapt)\n",
      "Protein partOf Composite                          6  p(MGI:Mapt, var(\"p.Pro301Leu\")) partOf composite(a(CHEBI:thapsigargin), p(MGI:Mapt, var(\"p.Pro301Leu\")))\n",
      "Protein partOf Complex                            5  p(MGI:Snca, var(\"?\")) partOf complex(a(GO:lysosome), p(MGI:Snca, var(\"?\")))\n",
      "Protein decreases BiologicalProcess               5  p(MGI:Mapt, var(\"p.Ala152Thr\")) decreases bp(GO:\"late endosomal microautophagy\")\n",
      "Abundance partOf Complex                          5  a(GO:lysosome) partOf complex(a(GO:lysosome), p(MGI:Mapt, var(\"p.Ala152Thr\")))\n",
      "Composite decreases BiologicalProcess             3  composite(a(CHEBI:\"ammonium chloride\"), a(CHEBI:leupeptin)) decreases bp(GO:\"late endosomal microautophagy\")\n",
      "BiologicalProcess increases Pathology             2  bp(GO:aging) increases path(MESH:\"Proteostasis Deficiencies\")\n",
      "BiologicalProcess decreases Protein               2  bp(GO:macroautophagy) decreases deg(p(MGI:Mapt))\n",
      "BiologicalProcess causesNoChange Protein          2  bp(GO:macroautophagy) causesNoChange deg(p(MGI:Mapt, var(\"p.Pro301Leu\")))\n",
      "Protein decreases Complex                         2  p(MGI:Mapt, var(\"p.Pro301Leu\")) decreases complex(a(GO:lysosome), p(MGI:Mapt))\n",
      "Abundance increases Protein                       2  a(GO:\"late endosome\") increases deg(p(MGI:Mapt))\n",
      "Complex decreases Protein                         2  complex(a(GO:lysosome), p(MGI:Lrrk2, var(\"?\"))) decreases tloc(p(MGI:Lrrk2, var(\"?\")), fromLoc(MESH:\"Extracellular Space\"), toLoc(GO:lysosome))\n",
      "Abundance decreases Protein                       2  a(GO:\"late endosome\") decreases deg(p(MGI:Mapt, var(\"p.Pro301Leu\")))\n",
      "Abundance increases BiologicalProcess             2  a(CHEBI:paraquat) increases bp(GO:\"response to oxidative stress\")\n",
      "Composite increases BiologicalProcess             2  composite(a(CHEBI:paraquat), p(CONSO:CONSO00053)) increases bp(GO:\"chaperone-mediated autophagy\")\n",
      "Composite causesNoChange BiologicalProcess        2  composite(a(CHEBI:thapsigargin), p(MGI:Mapt, var(\"p.Ala152Thr\"))) causesNoChange bp(GO:\"chaperone-mediated autophagy\")\n",
      "Pathology decreases Protein                       1  path(MESH:\"Proteostasis Deficiencies\") decreases deg(p(MGI:Mapt, var(\"p.Pro301Leu\")))\n",
      "BiologicalProcess increases Abundance             1  bp(GO:macroautophagy) increases deg(a(MESH:Proteins))\n",
      "BiologicalProcess decreases Pathology             1  bp(GO:\"chaperone-mediated autophagy\") decreases path(MESH:\"Proteostasis Deficiencies\")\n",
      "Complex increases Protein                         1  complex(a(GO:lysosome), p(MGI:Mapt, var(\"p.Pro301Leu\"))) increases tloc(p(MGI:Mapt, var(\"p.Pro301Leu\")), fromLoc(MESH:\"Extracellular Space\"), toLoc(GO:lysosome))\n",
      "Protein decreases Abundance                       1  p(CONSO:CONSO00053, var(\"p.Lys280delinsProPro\")) decreases a(CONSO:CONSO00006)\n",
      "\n"
     ]
    }
   ],
   "source": [
    "cabellero_2018_graph = pybel.from_bel_script(path, manager=manager)\n",
    "\n",
    "cabellero_2018_graph.summarize()"
   ]
  },
  {
   "cell_type": "code",
   "execution_count": 11,
   "metadata": {},
   "outputs": [
    {
     "name": "stderr",
     "output_type": "stream",
     "text": [
      "DEBUG:pybel.manager.cache_manager:inserting Interplay of pathogenic forms of human tau with different autophagic pathways v1.0.1\n",
      "downloading namespaces: 100%|██████████| 13/13 [00:00<00:00, 771.01it/s]\n",
      "downloading annotations: 100%|██████████| 10/10 [00:00<00:00, 901.07it/s]\n",
      "DEBUG:pybel.manager.cache_manager:inserting Interplay of pathogenic forms of human tau with different autophagic pathways v1.0.1 into edge store\n",
      "DEBUG:pybel.manager.cache_manager:building node models\n",
      "nodes: 100%|██████████| 59/59 [00:00<00:00, 214.12it/s]\n",
      "DEBUG:pybel.manager.cache_manager:built 59 node models in 0.28 seconds\n",
      "DEBUG:pybel.manager.cache_manager:stored 59 node models in 0.01 seconds\n",
      "DEBUG:pybel.manager.cache_manager:building edge models\n",
      "edges: 100%|██████████| 141/141 [00:00<00:00, 221.44it/s]\n",
      "DEBUG:pybel.manager.cache_manager:built 141 edge models in 0.64 seconds\n",
      "DEBUG:pybel.manager.cache_manager:stored 141 edge models in 0.01 seconds\n",
      "INFO:pybel.manager.cache_manager:inserted Interplay of pathogenic forms of human tau with different autophagic pathways v1.0.1 in 1.13 seconds\n"
     ]
    },
    {
     "data": {
      "text/plain": [
       "Interplay of pathogenic forms of human tau with different autophagic pathways v1.0.1"
      ]
     },
     "execution_count": 11,
     "metadata": {},
     "output_type": "execute_result"
    }
   ],
   "source": [
    "pybel.to_database(cabellero_2018_graph, manager=manager)"
   ]
  },
  {
   "cell_type": "markdown",
   "metadata": {},
   "source": [
    "We can combine two or more graphs in a list using `pybel.union`."
   ]
  },
  {
   "cell_type": "code",
   "execution_count": 10,
   "metadata": {},
   "outputs": [
    {
     "name": "stdout",
     "output_type": "stream",
     "text": [
      "---------------------  ---------------------------------------------------------------------------------------\n",
      "Name                   Promoting the clearance of neurotoxic proteins in neurodegenerative disorders of ageing\n",
      "Version                1.0.0\n",
      "Authors                Esther Wollert, Sandra Spalek, and Charles Tapley Hoyt\n",
      "Number of Nodes        250\n",
      "Number of Namespaces   10\n",
      "Number of Edges        541\n",
      "Number of Annotations  4\n",
      "Number of Citations    2\n",
      "Number of Authors      0\n",
      "Network Density        8.69E-03\n",
      "Number of Components   2\n",
      "Number of Warnings     0\n",
      "---------------------  ---------------------------------------------------------------------------------------\n",
      "\n",
      "Type (7)             Count  Example\n",
      "-----------------  -------  ----------------------------------------------------------------------\n",
      "Protein                120  p(HGNC:MAPT, pmod(go:0006468 ! \"protein phosphorylation\"))\n",
      "Abundance               70  a(PUBCHEM:46216556)\n",
      "BiologicalProcess       24  bp(GO:\"autophagosome assembly\")\n",
      "Pathology               11  path(MESH:\"Plaque, Amyloid\")\n",
      "Composite               10  composite(a(CHEBI:cilostazol), a(MESH:\"amyloid beta-protein (25-35)\"))\n",
      "Complex                 10  complex(p(HGNC:BIRC2), p(HGNC:SOD1))\n",
      "Gene                     5  g(HGNC:APP, var(\"?\"))\n",
      "\n",
      "Namespace (10)      Count  Example\n",
      "----------------  -------  -----------------------------------------------------------------------------------------------------------------------------------\n",
      "HGNC                   98  p(HGNC:PRKN)\n",
      "CHEBI                  53  a(CHEBI:\"AICA ribonucleotide\")\n",
      "GO                     51  bp(GO:\"lysosomal lumen acidification\")\n",
      "MESH                   36  path(MESH:\"Amyotrophic Lateral Sclerosis\")\n",
      "go                     30\n",
      "CONSO                  29  p(CONSO:CONSO00053, pmod(go:0006468 ! \"protein phosphorylation\", Ser, 214), pmod(go:0006468 ! \"protein phosphorylation\", Thr, 212))\n",
      "MGI                    16  p(MGI:Lrrk2)\n",
      "FPLX                   13  p(FPLX:AMPK)\n",
      "PUBCHEM                 8  a(PUBCHEM:129688311)\n",
      "HP                      1  bp(HP:Neurodegeneration)\n",
      "\n",
      "Edge Type (59)                                   Count  Example\n",
      "---------------------------------------------  -------  --------------------------------------------------------------------------------------------------------------------------------------------------------------------------------------------------------------------------------------------------------------------------------------\n",
      "Abundance increases Protein                         52  a(CHEBI:clonidine) increases deg(p(HGNC:HTT))\n",
      "Protein hasVariant Protein                          42  p(CONSO:CONSO00053) hasVariant p(CONSO:CONSO00053, var(\"p.Ser262Ala\"), var(\"p.Ser293Ala\"), var(\"p.Ser324Ala\"), var(\"p.Ser356Ala\"))\n",
      "Protein increases Protein                           41  act(p(HGNC:CASP3)) increases p(HGNC:BECN1, frag(\"?\"))\n",
      "Abundance decreases Protein                         37  a(CHEBI:resveratrol) decreases p(HGNC:AGER)\n",
      "Protein decreases Protein                           35  p(CONSO:CONSO00053, pmod(go:0006468 ! \"protein phosphorylation\", Ser, 202), pmod(go:0006468 ! \"protein phosphorylation\", Thr, 205)) decreases deg(p(CONSO:CONSO00053, pmod(go:0006468 ! \"protein phosphorylation\", Ser, 202), pmod(go:0006468 ! \"protein phosphorylation\", Thr, 205)))\n",
      "Abundance increases BiologicalProcess               35  a(CHEBI:metformin) increases bp(GO:macroautophagy)\n",
      "Protein decreases BiologicalProcess                 33  p(CONSO:CONSO00055) decreases bp(GO:\"late endosomal microautophagy\")\n",
      "Protein increases BiologicalProcess                 28  p(HGNC:LAMP2) increases bp(GO:\"chaperone-mediated autophagy\")\n",
      "Abundance decreases Abundance                       26  a(CHEBI:\"amyloid-beta polypeptide 42\") decreases a(GO:microtubule)\n",
      "BiologicalProcess increases Protein                 25  bp(GO:\"chaperone-mediated autophagy\") increases deg(p(HGNC:MAPT))\n",
      "Protein increases Abundance                         21  p(MGI:Mapt, var(\"p.Ala152Thr\")) increases a(GO:autolysosome)\n",
      "Abundance partOf Composite                          12  a(CHEBI:\"NAD(+)\") partOf composite(a(CHEBI:\"NAD(+)\"), p(HGNC:SIRT1))\n",
      "Abundance decreases BiologicalProcess               12  a(CHEBI:ambroxol) decreases bp(GO:\"response to endoplasmic reticulum stress\")\n",
      "Protein partOf Complex                              10  p(MGI:Snca, var(\"?\")) partOf complex(a(GO:lysosome), p(MGI:Snca, var(\"?\")))\n",
      "Protein association Pathology                        9  p(HGNC:SQSTM1) association path(MESH:\"Amyotrophic Lateral Sclerosis\")\n",
      "Protein partOf Composite                             8  p(MGI:Mapt, var(\"p.Ala152Thr\")) partOf composite(a(CHEBI:paraquat), p(MGI:Mapt, var(\"p.Ala152Thr\")))\n",
      "Pathology increases Pathology                        7  path(MESH:Tauopathies) increases path(MESH:\"Proteostasis Deficiencies\")\n",
      "Protein decreases Abundance                          7  p(CONSO:CONSO00053, var(\"p.Lys280delinsProPro\")) decreases a(CONSO:CONSO00006)\n",
      "Abundance partOf Complex                             6  a(GO:lysosome) partOf complex(a(GO:lysosome), p(MGI:Snca, var(\"?\")))\n",
      "BiologicalProcess causesNoChange Protein             5  bp(GO:\"chaperone-mediated autophagy\") causesNoChange deg(p(HGNC:HTT, var(\"?\")))\n",
      "Composite increases BiologicalProcess                4  composite(a(CHEBI:thapsigargin), p(CONSO:CONSO00053)) increases bp(GO:\"chaperone-mediated autophagy\")\n",
      "Pathology decreases Protein                          4  path(MESH:\"Alzheimer Disease\") decreases p(HGNC:MME)\n",
      "Protein decreases Complex                            4  p(MGI:Mapt, var(\"p.Pro301Leu\")) decreases complex(a(GO:lysosome), p(MGI:Mapt))\n",
      "Abundance increases Abundance                        4  a(CHEBI:\"epothilone A\") increases a(GO:microtubule)\n",
      "Protein decreases Pathology                          3  act(p(HGNC:MME)) decreases path(MESH:\"Plaque, Amyloid\")\n",
      "BiologicalProcess increases BiologicalProcess        3  bp(GO:\"proteasome-mediated ubiquitin-dependent protein catabolic process\") increases bp(GO:\"dendrite development\")\n",
      "Complex increases Protein                            3  complex(GO:\"proteasome complex\") increases deg(p(HGNC:MAPT, pmod(CONSO:hyperphosphorylation)))\n",
      "Complex decreases Protein                            3  complex(a(GO:lysosome), p(MGI:Lrrk2, var(\"?\"))) decreases tloc(p(MGI:Lrrk2, var(\"?\")), fromLoc(MESH:\"Extracellular Space\"), toLoc(GO:lysosome))\n",
      "Composite decreases BiologicalProcess                3  composite(a(CHEBI:\"ammonium chloride\"), a(CHEBI:leupeptin)) decreases bp(GO:\"late endosomal microautophagy\")\n",
      "BiologicalProcess decreases Protein                  2  bp(GO:macroautophagy) decreases deg(p(MGI:Mapt, var(\"p.Pro301Leu\")))\n",
      "Pathology increases Protein                          2  path(MESH:\"Frontotemporal Dementia\") increases act(p(HGNC:ABL1))\n",
      "Gene increases Protein                               2  g(HGNC:APP, var(\"?\")) increases p(CONSO:C99)\n",
      "Gene negativeCorrelation BiologicalProcess           2  g(HGNC:PSEN1, var(\"?\")) negativeCorrelation bp(GO:mitophagy)\n",
      "Gene hasVariant Gene                                 2  g(HGNC:PSEN1) hasVariant g(HGNC:PSEN1, var(\"?\"))\n",
      "Gene decreases Abundance                             2  g(HGNC:APP, var(\"?\")) decreases act(a(GO:lysosome))\n",
      "Abundance decreases Complex                          2  a(CONSO:\"alpha-synuclein aggregates\") decreases complex(GO:\"proteasome complex\")\n",
      "Protein increases Pathology                          2  p(HGNC:GBA, var(\"?\")) increases path(MESH:\"Parkinson Disease\")\n",
      "BiologicalProcess increases Pathology                2  bp(GO:aging) increases path(MESH:\"Proteostasis Deficiencies\")\n",
      "Composite causesNoChange BiologicalProcess           2  composite(a(CHEBI:paraquat), p(MGI:Mapt, var(\"p.Ala152Thr\"))) causesNoChange bp(GO:\"chaperone-mediated autophagy\")\n",
      "BiologicalProcess increases Abundance                1  bp(GO:macroautophagy) increases deg(a(MESH:Proteins))\n",
      "Protein negativeCorrelation BiologicalProcess        1  act(p(HGNC:SIRT1)) negativeCorrelation bp(GO:aging)\n",
      "BiologicalProcess causesNoChange Abundance           1  bp(GO:\"chaperone-mediated autophagy\") causesNoChange deg(a(CHEBI:\"amyloid-beta polypeptide 42\"))\n",
      "BiologicalProcess decreases Pathology                1  bp(GO:\"chaperone-mediated autophagy\") decreases path(MESH:\"Proteostasis Deficiencies\")\n",
      "Pathology positiveCorrelation Gene                   1  path(MESH:\"Alzheimer Disease\") positiveCorrelation g(HGNC:PSEN1, var(\"?\"))\n",
      "Pathology negativeCorrelation Abundance              1  path(MESH:\"Alzheimer Disease\") negativeCorrelation a(CHEBI:\"selenium(2+)\")\n",
      "Gene increases Pathology                             1  g(CONSO:\"APOE e4\") increases path(MESH:\"Alzheimer Disease\")\n",
      "Gene increases Abundance                             1  g(CONSO:\"APOE e4\") increases a(CHEBI:\"amyloid-beta polypeptide 42\")\n",
      "Gene negativeCorrelation Complex                     1  g(HGNC:PSEN1, var(\"?\")) negativeCorrelation act(complex(GO:\"lysosomal proton-transporting V-type ATPase complex\"))\n",
      "Complex increases Abundance                          1  complex(GO:\"proteasome complex\") increases deg(a(CONSO:\"Tau oligomers\"))\n",
      "Protein association BiologicalProcess                1  p(HGNC:LRRK2, var(\"?\")) association bp(CONSO:\"APP processing\")\n",
      "Composite increases Protein                          1  composite(a(CHEBI:\"calcium(2+)\"), p(HGNC:CAMKK2)) increases p(FPLX:AMPK, pmod(go:0006468 ! \"protein phosphorylation\", Thr, 172))\n",
      "BiologicalProcess decreases Abundance                1  bp(GO:aging) decreases a(CHEBI:\"NAD(+)\")\n",
      "Composite decreases Abundance                        1  composite(a(CHEBI:cilostazol), a(MESH:\"amyloid beta-protein (25-35)\")) decreases a(CHEBI:\"amyloid-beta polypeptide 42\")\n",
      "Composite decreases Protein                          1  composite(a(CHEBI:cilostazol), a(MESH:\"amyloid beta-protein (25-35)\")) decreases p(HGNC:MAPT, pmod(CONSO:hyperphosphorylation))\n",
      "Complex decreases BiologicalProcess                  1  complex(p(HGNC:BCL2), p(HGNC:BECN1)) decreases bp(GO:macroautophagy)\n",
      "Abundance increases Pathology                        1  a(PUBCHEM:46216556) increases path(MESH:\"Motor Activity\")\n",
      "Abundance increases Complex                          1  a(PUBCHEM:3086599) increases act(complex(GO:\"proteasome complex\"))\n",
      "Protein increases Complex                            1  p(HGNC:PSMC5, pmod(go:0006468 ! \"protein phosphorylation\", Ser, 120)) increases act(complex(GO:\"proteasome complex\"))\n",
      "Protein negativeCorrelation Pathology                1  p(HGNC:PLG) negativeCorrelation path(MESH:\"Alzheimer Disease\")\n",
      "\n"
     ]
    }
   ],
   "source": [
    "combined_graph = pybel.union([boland_2018_graph, cabellero_2018_graph])\n",
    "\n",
    "combined_graph.summarize()"
   ]
  },
  {
   "cell_type": "markdown",
   "metadata": {},
   "source": [
    "Note that there are some overlapping nodes, but no overlapping edges."
   ]
  }
 ],
 "metadata": {
  "kernelspec": {
   "display_name": "Python 3",
   "language": "python",
   "name": "python3"
  },
  "language_info": {
   "codemirror_mode": {
    "name": "ipython",
    "version": 3
   },
   "file_extension": ".py",
   "mimetype": "text/x-python",
   "name": "python",
   "nbconvert_exporter": "python",
   "pygments_lexer": "ipython3",
   "version": "3.8.3"
  }
 },
 "nbformat": 4,
 "nbformat_minor": 2
}
